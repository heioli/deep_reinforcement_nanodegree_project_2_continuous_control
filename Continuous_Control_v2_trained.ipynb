{
 "cells": [
  {
   "cell_type": "markdown",
   "metadata": {},
   "source": [
    "# Continuous Control\n",
    "\n",
    "---\n",
    "\n",
    "Code for the second project of the [Deep Reinforcement Learning Nanodegree](https://www.udacity.com/course/deep-reinforcement-learning-nanodegree--nd893) program.\n",
    "\n",
    "### 1. Start the Environment\n",
    "\n",
    "We begin by importing the necessary packages.  If the code cell below returns an error, please revisit the project instructions to double-check that you have installed [Unity ML-Agents](https://github.com/Unity-Technologies/ml-agents/blob/master/docs/Installation.md) and [NumPy](http://www.numpy.org/)."
   ]
  },
  {
   "cell_type": "code",
   "execution_count": 1,
   "metadata": {},
   "outputs": [
    {
     "name": "stdout",
     "output_type": "stream",
     "text": [
      "\u001b[31mtensorflow 1.7.1 has requirement numpy>=1.13.3, but you'll have numpy 1.12.1 which is incompatible.\u001b[0m\r\n",
      "\u001b[31mipython 6.5.0 has requirement prompt-toolkit<2.0.0,>=1.0.15, but you'll have prompt-toolkit 3.0.19 which is incompatible.\u001b[0m\r\n"
     ]
    }
   ],
   "source": [
    "!pip -q install ./python"
   ]
  },
  {
   "cell_type": "code",
   "execution_count": 2,
   "metadata": {},
   "outputs": [],
   "source": [
    "from unityagents import UnityEnvironment\n",
    "import numpy as np\n",
    "from collections import deque\n",
    "import matplotlib.pyplot as plt\n",
    "import importlib\n",
    "import time\n",
    "import torch\n",
    "\n",
    "# Import custom agent\n",
    "import ddpg_agent\n",
    "\n",
    "# Import Workspace Utils to work on Udacity workspace\n",
    "from workspace_utils import active_session"
   ]
  },
  {
   "cell_type": "markdown",
   "metadata": {},
   "source": [
    "Next, we will start the environment!  **_Before running the code cell below_**, change the `file_name` parameter to match the location of the Unity environment that you downloaded.\n",
    "\n",
    "- **Mac**: `\"path/to/Reacher.app\"`\n",
    "- **Windows** (x86): `\"path/to/Reacher_Windows_x86/Reacher.exe\"`\n",
    "- **Windows** (x86_64): `\"path/to/Reacher_Windows_x86_64/Reacher.exe\"`\n",
    "- **Linux** (x86): `\"path/to/Reacher_Linux/Reacher.x86\"`\n",
    "- **Linux** (x86_64): `\"path/to/Reacher_Linux/Reacher.x86_64\"`\n",
    "- **Linux** (x86, headless): `\"path/to/Reacher_Linux_NoVis/Reacher.x86\"`\n",
    "- **Linux** (x86_64, headless): `\"path/to/Reacher_Linux_NoVis/Reacher.x86_64\"`\n",
    "\n",
    "For instance, if you are using a Mac, then you downloaded `Reacher.app`.  If this file is in the same folder as the notebook, then the line below should appear as follows:\n",
    "```\n",
    "env = UnityEnvironment(file_name=\"Reacher.app\")\n",
    "```"
   ]
  },
  {
   "cell_type": "code",
   "execution_count": 3,
   "metadata": {},
   "outputs": [
    {
     "name": "stderr",
     "output_type": "stream",
     "text": [
      "INFO:unityagents:\n",
      "'Academy' started successfully!\n",
      "Unity Academy name: Academy\n",
      "        Number of Brains: 1\n",
      "        Number of External Brains : 1\n",
      "        Lesson number : 0\n",
      "        Reset Parameters :\n",
      "\t\tgoal_speed -> 1.0\n",
      "\t\tgoal_size -> 5.0\n",
      "Unity brain name: ReacherBrain\n",
      "        Number of Visual Observations (per agent): 0\n",
      "        Vector Observation space type: continuous\n",
      "        Vector Observation space size (per agent): 33\n",
      "        Number of stacked Vector Observation: 1\n",
      "        Vector Action space type: continuous\n",
      "        Vector Action space size (per agent): 4\n",
      "        Vector Action descriptions: , , , \n"
     ]
    }
   ],
   "source": [
    "#env = UnityEnvironment(file_name='./Reacher_Linux/Reacher.x86_64') # Unity env with Viz\n",
    "# env = UnityEnvironment(file_name='./Reacher_Linux_NoVis/Reacher.x86_64') # Unity env without Viz\n",
    "env = UnityEnvironment(file_name='/data/Reacher_Linux_NoVis/Reacher.x86_64') # Unity for Udacity workspace"
   ]
  },
  {
   "cell_type": "markdown",
   "metadata": {},
   "source": [
    "Environments contain **_brains_** which are responsible for deciding the actions of their associated agents. Here we check for the first brain available, and set it as the default brain we will be controlling from Python."
   ]
  },
  {
   "cell_type": "code",
   "execution_count": 4,
   "metadata": {},
   "outputs": [],
   "source": [
    "# get the default brain\n",
    "brain_name = env.brain_names[0]\n",
    "brain = env.brains[brain_name]"
   ]
  },
  {
   "cell_type": "markdown",
   "metadata": {},
   "source": [
    "### 2. Examine the State and Action Spaces\n",
    "\n",
    "In this environment, a double-jointed arm can move to target locations. A reward of `+0.1` is provided for each step that the agent's hand is in the goal location. Thus, the goal of your agent is to maintain its position at the target location for as many time steps as possible.\n",
    "\n",
    "The observation space consists of `33` variables corresponding to position, rotation, velocity, and angular velocities of the arm.  Each action is a vector with four numbers, corresponding to torque applicable to two joints.  Every entry in the action vector must be a number between `-1` and `1`.\n",
    "\n",
    "Run the code cell below to print some information about the environment."
   ]
  },
  {
   "cell_type": "code",
   "execution_count": 5,
   "metadata": {},
   "outputs": [
    {
     "name": "stdout",
     "output_type": "stream",
     "text": [
      "Number of agents: 20\n",
      "Size of each action: 4\n",
      "Shape State Space (20, 33)\n",
      "There are 20 agents. Each observes a state with length: 33\n",
      "The state for the first agent looks like: [  0.00000000e+00  -4.00000000e+00   0.00000000e+00   1.00000000e+00\n",
      "  -0.00000000e+00  -0.00000000e+00  -4.37113883e-08   0.00000000e+00\n",
      "   0.00000000e+00   0.00000000e+00   0.00000000e+00   0.00000000e+00\n",
      "   0.00000000e+00   0.00000000e+00  -1.00000000e+01   0.00000000e+00\n",
      "   1.00000000e+00  -0.00000000e+00  -0.00000000e+00  -4.37113883e-08\n",
      "   0.00000000e+00   0.00000000e+00   0.00000000e+00   0.00000000e+00\n",
      "   0.00000000e+00   0.00000000e+00   5.75471878e+00  -1.00000000e+00\n",
      "   5.55726624e+00   0.00000000e+00   1.00000000e+00   0.00000000e+00\n",
      "  -1.68164849e-01]\n"
     ]
    }
   ],
   "source": [
    "# reset the environment\n",
    "env_info = env.reset(train_mode=True)[brain_name]\n",
    "\n",
    "# number of agents\n",
    "num_agents = len(env_info.agents)\n",
    "print('Number of agents:', num_agents)\n",
    "\n",
    "# size of each action\n",
    "action_size = brain.vector_action_space_size\n",
    "print('Size of each action:', action_size)\n",
    "\n",
    "# examine the state space \n",
    "states = env_info.vector_observations\n",
    "print('Shape State Space', states.shape)\n",
    "state_size = states.shape[1]\n",
    "print('There are {} agents. Each observes a state with length: {}'.format(states.shape[0], state_size))\n",
    "print('The state for the first agent looks like:', states[0])"
   ]
  },
  {
   "cell_type": "markdown",
   "metadata": {},
   "source": [
    "### 3. Take Random Actions in the Environment\n",
    "\n",
    "Watch agent's performance, when it selects actions at random at each timestep"
   ]
  },
  {
   "cell_type": "code",
   "execution_count": 6,
   "metadata": {},
   "outputs": [
    {
     "data": {
      "text/plain": [
       "\"\\nenv_info = env.reset(train_mode=False)[brain_name]     # reset the environment    \\nstates = env_info.vector_observations                  # get the current state (for each agent)\\nscores = np.zeros(num_agents)                          # initialize the score (for each agent)\\nwhile True:\\n    actions = np.random.randn(num_agents, action_size) # select an action (for each agent)\\n    actions = np.clip(actions, -1, 1)                  # all actions between -1 and 1\\n    env_info = env.step(actions)[brain_name]           # send all actions to tne environment\\n    next_states = env_info.vector_observations         # get next state (for each agent)\\n    rewards = env_info.rewards                         # get reward (for each agent)\\n    dones = env_info.local_done                        # see if episode finished\\n    scores += env_info.rewards                         # update the score (for each agent)\\n    states = next_states                               # roll over states to next time step\\n    if np.any(dones):                                  # exit loop if episode finished\\n        break\\nprint('Total score (averaged over agents) this episode: {}'.format(np.mean(scores)))\\n\""
      ]
     },
     "execution_count": 6,
     "metadata": {},
     "output_type": "execute_result"
    }
   ],
   "source": [
    "\"\"\"\n",
    "env_info = env.reset(train_mode=False)[brain_name]     # reset the environment    \n",
    "states = env_info.vector_observations                  # get the current state (for each agent)\n",
    "scores = np.zeros(num_agents)                          # initialize the score (for each agent)\n",
    "while True:\n",
    "    actions = np.random.randn(num_agents, action_size) # select an action (for each agent)\n",
    "    actions = np.clip(actions, -1, 1)                  # all actions between -1 and 1\n",
    "    env_info = env.step(actions)[brain_name]           # send all actions to tne environment\n",
    "    next_states = env_info.vector_observations         # get next state (for each agent)\n",
    "    rewards = env_info.rewards                         # get reward (for each agent)\n",
    "    dones = env_info.local_done                        # see if episode finished\n",
    "    scores += env_info.rewards                         # update the score (for each agent)\n",
    "    states = next_states                               # roll over states to next time step\n",
    "    if np.any(dones):                                  # exit loop if episode finished\n",
    "        break\n",
    "print('Total score (averaged over agents) this episode: {}'.format(np.mean(scores)))\n",
    "\"\"\""
   ]
  },
  {
   "cell_type": "markdown",
   "metadata": {},
   "source": [
    "### 4. Train Model using DDPG"
   ]
  },
  {
   "cell_type": "code",
   "execution_count": 7,
   "metadata": {},
   "outputs": [],
   "source": [
    "# Initialize Target Parameters as in \"The Environment - Introduction\"\n",
    "average_target_score = 30 # goal average target score to reach\n",
    "n_consecutive_episodes = 100 # consecutive episodes to average over"
   ]
  },
  {
   "cell_type": "code",
   "execution_count": 8,
   "metadata": {},
   "outputs": [
    {
     "data": {
      "text/plain": [
       "<module 'ddpg_agent' from '/home/workspace/ddpg_agent.py'>"
      ]
     },
     "execution_count": 8,
     "metadata": {},
     "output_type": "execute_result"
    }
   ],
   "source": [
    "importlib.reload(ddpg_agent)"
   ]
  },
  {
   "cell_type": "code",
   "execution_count": 9,
   "metadata": {},
   "outputs": [],
   "source": [
    "# initiate agent\n",
    "agent = ddpg_agent.Agent(state_size=state_size, action_size=action_size, random_seed=2)"
   ]
  },
  {
   "cell_type": "code",
   "execution_count": 10,
   "metadata": {},
   "outputs": [],
   "source": [
    "def ddpg(n_episodes=1000, max_t=1000, print_every=n_consecutive_episodes):\n",
    "    \"\"\"\n",
    "    Deep Deterministic Policy Gradients\n",
    "    \"\"\"\n",
    "    scores_deque = deque(maxlen=n_consecutive_episodes)\n",
    "    scores = []\n",
    "    for i_episode in range(1, n_episodes+1):\n",
    "        # Start timing\n",
    "        time_start_episode = time.time()\n",
    "        \n",
    "        # Reset environment\n",
    "        env_info = env.reset(train_mode=True)[brain_name] \n",
    "        states = env_info.vector_observations  \n",
    "        n_agents = states.shape[0] # shape in example env. (20,33)\n",
    "        \n",
    "        # Reset agent\n",
    "        agent.reset()\n",
    "        # Array to keep track of individual agent scores\n",
    "        agent_scores_individual = np.zeros(n_agents)\n",
    "        \n",
    "        # Loop over time\n",
    "        for t in range(max_t):\n",
    "            # Adapted multi-agent actions\n",
    "            # ----------------------\n",
    "            # initialize actions array\n",
    "            actions = agent.act(states) # actions.shape = (20,4)\n",
    "            # ----------------------\n",
    "            \n",
    "            # Interact with environment using new actions\n",
    "            # ----------------------\n",
    "            env_info = env.step(actions)[brain_name] # send all actions to the environment\n",
    "            next_states = env_info.vector_observations # get next state (for each agent)\n",
    "            rewards = env_info.rewards # get reward (for each agent)\n",
    "            dones = env_info.local_done # see if episode finished\n",
    "            # ----------------------\n",
    "            \n",
    "            # Adapted multi-agent step:\n",
    "            # ----------------------\n",
    "            # loop over all agents to perform individual steps\n",
    "            for state, action, reward, next_state, done in zip(states, actions, rewards, next_states, dones):\n",
    "                agent.step_multi(state, action, reward, next_state, done, t)\n",
    "            # ----------------------\n",
    "\n",
    "            agent_scores_individual += rewards # update the score (for each agent)\n",
    "            states = next_states # roll over states to next time step\n",
    "            \n",
    "            if np.any(dones): # exit loop if episode finished\n",
    "                break\n",
    "\n",
    "        # For each episode calculate mean score overall individual agents\n",
    "        mean_score = np.mean(agent_scores_individual)\n",
    "          \n",
    "        # Add mean score to scores\n",
    "        scores_deque.append(mean_score)\n",
    "        mean_scores_deque = np.mean(scores_deque)\n",
    "        scores.append(mean_score)\n",
    "        \n",
    "        # Print episode result\n",
    "        time_end_episode = time.time()\n",
    "        average_time_per_episode = (time_end_episode-time_start_episode)\n",
    "        print('\\rEpisode {}\\tAverage Score: {:.2f}\\tScore: {:.2f}\\tEpisode Time s: {:.2f}'.format(i_episode, \n",
    "                                                                                                  mean_scores_deque, \n",
    "                                                                                                  mean_score, \n",
    "                                                                                                  average_time_per_episode))\n",
    "        \n",
    "        # Print update after print_every\n",
    "        if i_episode % print_every == 0:\n",
    "            print('Save model')\n",
    "            print('\\rEpisode {}\\tAverage Score: {:.2f}'.format(i_episode, mean_scores_deque))\n",
    "            torch.save(agent.actor_local.state_dict(), 'checkpoint_actor.pth')\n",
    "            torch.save(agent.critic_local.state_dict(), 'checkpoint_critic.pth')\n",
    "        # stop training once target score is reached   \n",
    "        if mean_scores_deque >= average_target_score:\n",
    "            print('\\rEnvironment solved at Episode {}\\tAverage Score: {:.2f}'.format(i_episode-n_consecutive_episodes, mean_scores_deque))\n",
    "            torch.save(agent.actor_local.state_dict(), 'checkpoint_actor_final.pth')\n",
    "            torch.save(agent.critic_local.state_dict(), 'checkpoint_critic_final.pth')\n",
    "            break\n",
    "            \n",
    "    return scores"
   ]
  },
  {
   "cell_type": "code",
   "execution_count": 11,
   "metadata": {},
   "outputs": [
    {
     "name": "stdout",
     "output_type": "stream",
     "text": [
      "Episode 1\tAverage Score: 0.74\tScore: 0.74\tEpisode Time s: 171.76\n",
      "Episode 2\tAverage Score: 1.19\tScore: 1.64\tEpisode Time s: 146.22\n",
      "Episode 3\tAverage Score: 1.45\tScore: 1.97\tEpisode Time s: 146.99\n",
      "Episode 4\tAverage Score: 1.91\tScore: 3.28\tEpisode Time s: 148.23\n",
      "Episode 5\tAverage Score: 2.12\tScore: 2.95\tEpisode Time s: 149.47\n",
      "Episode 6\tAverage Score: 2.42\tScore: 3.95\tEpisode Time s: 150.42\n",
      "Episode 7\tAverage Score: 2.66\tScore: 4.12\tEpisode Time s: 152.09\n",
      "Episode 8\tAverage Score: 2.84\tScore: 4.04\tEpisode Time s: 153.96\n",
      "Episode 9\tAverage Score: 3.04\tScore: 4.70\tEpisode Time s: 155.62\n",
      "Episode 10\tAverage Score: 3.21\tScore: 4.71\tEpisode Time s: 157.74\n",
      "Save model\n",
      "Episode 10\tAverage Score: 3.21\n",
      "Episode 11\tAverage Score: 3.53\tScore: 6.68\tEpisode Time s: 159.61\n",
      "Episode 12\tAverage Score: 3.83\tScore: 7.17\tEpisode Time s: 161.55\n",
      "Episode 13\tAverage Score: 4.08\tScore: 7.12\tEpisode Time s: 164.04\n",
      "Episode 14\tAverage Score: 4.26\tScore: 6.56\tEpisode Time s: 167.79\n",
      "Episode 15\tAverage Score: 4.56\tScore: 8.70\tEpisode Time s: 171.18\n",
      "Episode 16\tAverage Score: 4.79\tScore: 8.35\tEpisode Time s: 175.10\n",
      "Episode 17\tAverage Score: 5.02\tScore: 8.72\tEpisode Time s: 178.98\n",
      "Episode 18\tAverage Score: 5.24\tScore: 8.89\tEpisode Time s: 183.32\n",
      "Episode 19\tAverage Score: 5.55\tScore: 11.13\tEpisode Time s: 186.84\n",
      "Episode 20\tAverage Score: 5.74\tScore: 9.31\tEpisode Time s: 192.52\n",
      "Save model\n",
      "Episode 20\tAverage Score: 5.74\n",
      "Episode 21\tAverage Score: 6.00\tScore: 11.33\tEpisode Time s: 197.15\n",
      "Episode 22\tAverage Score: 6.28\tScore: 11.97\tEpisode Time s: 201.63\n",
      "Episode 23\tAverage Score: 6.55\tScore: 12.64\tEpisode Time s: 206.36\n",
      "Episode 24\tAverage Score: 6.80\tScore: 12.41\tEpisode Time s: 210.55\n",
      "Episode 25\tAverage Score: 7.01\tScore: 12.10\tEpisode Time s: 215.51\n",
      "Episode 26\tAverage Score: 7.23\tScore: 12.69\tEpisode Time s: 221.42\n",
      "Episode 27\tAverage Score: 7.58\tScore: 16.72\tEpisode Time s: 226.85\n",
      "Episode 28\tAverage Score: 7.98\tScore: 18.90\tEpisode Time s: 231.38\n",
      "Episode 29\tAverage Score: 8.33\tScore: 18.20\tEpisode Time s: 237.16\n",
      "Episode 30\tAverage Score: 8.59\tScore: 15.98\tEpisode Time s: 241.40\n",
      "Save model\n",
      "Episode 30\tAverage Score: 8.59\n",
      "Episode 31\tAverage Score: 8.87\tScore: 17.39\tEpisode Time s: 246.52\n",
      "Episode 32\tAverage Score: 9.23\tScore: 20.16\tEpisode Time s: 250.49\n",
      "Episode 33\tAverage Score: 9.70\tScore: 24.75\tEpisode Time s: 255.70\n",
      "Episode 34\tAverage Score: 10.07\tScore: 22.38\tEpisode Time s: 260.85\n",
      "Episode 35\tAverage Score: 10.46\tScore: 23.74\tEpisode Time s: 266.23\n",
      "Episode 36\tAverage Score: 10.83\tScore: 23.68\tEpisode Time s: 270.56\n",
      "Episode 37\tAverage Score: 11.20\tScore: 24.55\tEpisode Time s: 276.41\n",
      "Episode 38\tAverage Score: 11.58\tScore: 25.77\tEpisode Time s: 281.89\n",
      "Episode 39\tAverage Score: 11.91\tScore: 24.28\tEpisode Time s: 285.71\n",
      "Episode 40\tAverage Score: 12.29\tScore: 27.36\tEpisode Time s: 291.01\n",
      "Save model\n",
      "Episode 40\tAverage Score: 12.29\n",
      "Episode 41\tAverage Score: 12.64\tScore: 26.49\tEpisode Time s: 298.07\n",
      "Episode 42\tAverage Score: 13.03\tScore: 29.13\tEpisode Time s: 301.69\n",
      "Episode 43\tAverage Score: 13.44\tScore: 30.55\tEpisode Time s: 305.88\n",
      "Episode 44\tAverage Score: 13.79\tScore: 28.88\tEpisode Time s: 311.55\n",
      "Episode 45\tAverage Score: 14.21\tScore: 32.63\tEpisode Time s: 316.88\n",
      "Episode 46\tAverage Score: 14.61\tScore: 32.44\tEpisode Time s: 320.69\n",
      "Episode 47\tAverage Score: 14.99\tScore: 32.66\tEpisode Time s: 327.60\n",
      "Episode 48\tAverage Score: 15.31\tScore: 30.52\tEpisode Time s: 331.00\n",
      "Episode 49\tAverage Score: 15.68\tScore: 33.49\tEpisode Time s: 335.79\n",
      "Episode 50\tAverage Score: 16.07\tScore: 34.76\tEpisode Time s: 341.76\n",
      "Save model\n",
      "Episode 50\tAverage Score: 16.07\n",
      "Episode 51\tAverage Score: 16.44\tScore: 35.05\tEpisode Time s: 344.55\n",
      "Episode 52\tAverage Score: 16.80\tScore: 35.27\tEpisode Time s: 344.38\n",
      "Episode 53\tAverage Score: 17.16\tScore: 35.93\tEpisode Time s: 345.81\n",
      "Episode 54\tAverage Score: 17.49\tScore: 35.14\tEpisode Time s: 345.85\n",
      "Episode 55\tAverage Score: 17.82\tScore: 35.29\tEpisode Time s: 345.67\n",
      "Episode 56\tAverage Score: 18.17\tScore: 37.37\tEpisode Time s: 345.90\n",
      "Episode 57\tAverage Score: 18.49\tScore: 36.42\tEpisode Time s: 345.90\n",
      "Episode 58\tAverage Score: 18.81\tScore: 37.05\tEpisode Time s: 344.72\n",
      "Episode 59\tAverage Score: 19.13\tScore: 37.58\tEpisode Time s: 345.80\n",
      "Episode 60\tAverage Score: 19.45\tScore: 38.41\tEpisode Time s: 346.12\n",
      "Save model\n",
      "Episode 60\tAverage Score: 19.45\n",
      "Episode 61\tAverage Score: 19.75\tScore: 38.24\tEpisode Time s: 345.52\n",
      "Episode 62\tAverage Score: 20.06\tScore: 38.48\tEpisode Time s: 346.39\n",
      "Episode 63\tAverage Score: 20.35\tScore: 38.47\tEpisode Time s: 345.62\n",
      "Episode 64\tAverage Score: 20.62\tScore: 37.99\tEpisode Time s: 346.15\n",
      "Episode 65\tAverage Score: 20.90\tScore: 38.53\tEpisode Time s: 346.34\n",
      "Episode 66\tAverage Score: 21.17\tScore: 38.49\tEpisode Time s: 345.58\n",
      "Episode 67\tAverage Score: 21.42\tScore: 38.44\tEpisode Time s: 344.76\n",
      "Episode 68\tAverage Score: 21.68\tScore: 38.54\tEpisode Time s: 346.89\n",
      "Episode 69\tAverage Score: 21.92\tScore: 38.73\tEpisode Time s: 345.43\n",
      "Episode 70\tAverage Score: 22.16\tScore: 38.47\tEpisode Time s: 345.76\n",
      "Save model\n",
      "Episode 70\tAverage Score: 22.16\n",
      "Episode 71\tAverage Score: 22.39\tScore: 38.62\tEpisode Time s: 345.69\n",
      "Episode 72\tAverage Score: 22.62\tScore: 39.09\tEpisode Time s: 345.25\n",
      "Episode 73\tAverage Score: 22.85\tScore: 38.99\tEpisode Time s: 345.87\n",
      "Episode 74\tAverage Score: 23.07\tScore: 39.09\tEpisode Time s: 345.78\n",
      "Episode 75\tAverage Score: 23.28\tScore: 38.65\tEpisode Time s: 345.23\n",
      "Episode 76\tAverage Score: 23.47\tScore: 38.41\tEpisode Time s: 345.24\n",
      "Episode 77\tAverage Score: 23.68\tScore: 39.08\tEpisode Time s: 345.54\n",
      "Episode 78\tAverage Score: 23.87\tScore: 38.81\tEpisode Time s: 344.16\n",
      "Episode 79\tAverage Score: 24.06\tScore: 38.50\tEpisode Time s: 346.15\n",
      "Episode 80\tAverage Score: 24.24\tScore: 38.55\tEpisode Time s: 345.56\n",
      "Save model\n",
      "Episode 80\tAverage Score: 24.24\n",
      "Episode 81\tAverage Score: 24.42\tScore: 39.08\tEpisode Time s: 344.51\n",
      "Episode 82\tAverage Score: 24.60\tScore: 38.95\tEpisode Time s: 345.75\n",
      "Episode 83\tAverage Score: 24.77\tScore: 39.04\tEpisode Time s: 345.73\n",
      "Episode 84\tAverage Score: 24.94\tScore: 38.93\tEpisode Time s: 345.64\n",
      "Episode 85\tAverage Score: 25.11\tScore: 39.02\tEpisode Time s: 346.20\n",
      "Episode 86\tAverage Score: 25.27\tScore: 38.96\tEpisode Time s: 346.24\n",
      "Episode 87\tAverage Score: 25.42\tScore: 38.82\tEpisode Time s: 346.28\n",
      "Episode 88\tAverage Score: 25.57\tScore: 38.77\tEpisode Time s: 347.54\n",
      "Episode 89\tAverage Score: 25.72\tScore: 38.59\tEpisode Time s: 348.14\n",
      "Episode 90\tAverage Score: 25.86\tScore: 38.06\tEpisode Time s: 347.89\n",
      "Save model\n",
      "Episode 90\tAverage Score: 25.86\n",
      "Episode 91\tAverage Score: 25.98\tScore: 37.09\tEpisode Time s: 348.06\n",
      "Episode 92\tAverage Score: 26.12\tScore: 38.79\tEpisode Time s: 347.09\n",
      "Episode 93\tAverage Score: 26.23\tScore: 36.28\tEpisode Time s: 347.02\n",
      "Episode 94\tAverage Score: 26.36\tScore: 38.57\tEpisode Time s: 347.08\n",
      "Episode 95\tAverage Score: 26.48\tScore: 37.68\tEpisode Time s: 346.16\n",
      "Episode 96\tAverage Score: 26.60\tScore: 38.11\tEpisode Time s: 345.71\n",
      "Episode 97\tAverage Score: 26.73\tScore: 38.66\tEpisode Time s: 346.64\n",
      "Episode 98\tAverage Score: 26.85\tScore: 38.91\tEpisode Time s: 346.57\n",
      "Episode 99\tAverage Score: 26.97\tScore: 38.87\tEpisode Time s: 346.54\n",
      "Episode 100\tAverage Score: 27.08\tScore: 37.56\tEpisode Time s: 347.02\n",
      "Save model\n",
      "Episode 100\tAverage Score: 27.08\n",
      "Episode 101\tAverage Score: 27.46\tScore: 38.77\tEpisode Time s: 345.82\n",
      "Episode 102\tAverage Score: 27.82\tScore: 38.09\tEpisode Time s: 345.91\n",
      "Episode 103\tAverage Score: 28.18\tScore: 38.12\tEpisode Time s: 346.71\n",
      "Episode 104\tAverage Score: 28.53\tScore: 38.21\tEpisode Time s: 347.21\n",
      "Episode 105\tAverage Score: 28.88\tScore: 37.54\tEpisode Time s: 345.58\n",
      "Episode 106\tAverage Score: 29.23\tScore: 38.81\tEpisode Time s: 346.53\n",
      "Episode 107\tAverage Score: 29.57\tScore: 38.53\tEpisode Time s: 345.90\n",
      "Episode 108\tAverage Score: 29.91\tScore: 37.48\tEpisode Time s: 345.01\n",
      "Episode 109\tAverage Score: 30.24\tScore: 38.33\tEpisode Time s: 346.52\n",
      "Environment solved at Episode 9\tAverage Score: 30.24\n"
     ]
    }
   ],
   "source": [
    "# Uncomment when working on Udacity workspace\n",
    "with active_session():\n",
    "    scores = ddpg(n_episodes=2000, max_t=1000, print_every=10)"
   ]
  },
  {
   "cell_type": "code",
   "execution_count": 12,
   "metadata": {},
   "outputs": [],
   "source": [
    "#scores = ddpg(n_episodes=2000, max_t=1000, print_every=10)"
   ]
  },
  {
   "cell_type": "code",
   "execution_count": 13,
   "metadata": {},
   "outputs": [
    {
     "data": {
      "image/png": "[encoded data removed]",
      "text/plain": [
       "<matplotlib.figure.Figure at 0x7f209d25b4a8>"
      ]
     },
     "metadata": {
      "needs_background": "light"
     },
     "output_type": "display_data"
    }
   ],
   "source": [
    "fig = plt.figure()\n",
    "ax = fig.add_subplot(111)\n",
    "plt.plot(np.arange(1, len(scores)+1), scores)\n",
    "plt.ylabel('Score')\n",
    "plt.xlabel('Episode #')\n",
    "plt.savefig('./Plots/Average_scores.png')\n",
    "plt.show()"
   ]
  },
  {
   "cell_type": "markdown",
   "metadata": {},
   "source": [
    "### 5. Close Environment"
   ]
  },
  {
   "cell_type": "code",
   "execution_count": null,
   "metadata": {},
   "outputs": [],
   "source": [
    "env.close()"
   ]
  }
 ],
 "metadata": {
  "kernelspec": {
   "display_name": "Python 3",
   "language": "python",
   "name": "python3"
  },
  "language_info": {
   "codemirror_mode": {
    "name": "ipython",
    "version": 3
   },
   "file_extension": ".py",
   "mimetype": "text/x-python",
   "name": "python",
   "nbconvert_exporter": "python",
   "pygments_lexer": "ipython3",
   "version": "3.6.13"
  }
 },
 "nbformat": 4,
 "nbformat_minor": 2
}
